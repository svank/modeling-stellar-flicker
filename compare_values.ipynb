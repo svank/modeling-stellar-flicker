{
 "cells": [
  {
   "cell_type": "markdown",
   "metadata": {},
   "source": [
    "Looks like this is comparing computed parameters to those computed in\n",
    "Steve's catalog"
   ]
  },
  {
   "cell_type": "code",
   "execution_count": 1,
   "metadata": {},
   "outputs": [],
   "source": [
    "from base import *"
   ]
  },
  {
   "cell_type": "code",
   "execution_count": 2,
   "metadata": {},
   "outputs": [],
   "source": [
    "c = catalog[ catalog['has_C'] == 1]\n",
    "cc = c[ c['TeffC'] < 5400 ]\n",
    "\n",
    "Ma = calc_Ma(cc['loggC'], cc['TeffC'])\n",
    "ν_max = calc_ν_max(cc['loggC'], cc['TeffC'])\n",
    "Ma_sun = calc_Ma(logg_sun, T_sun)\n",
    "τ_eff = 300 * (ν_sun * Ma_sun / ν_max / Ma)**0.98\n",
    "σ = calc_σ(cc['TeffC'], cc['MC'], cc['loggC'])\n",
    "F8 = calc_F8_from_σ(cc['loggC'], cc['TeffC'], σ)"
   ]
  },
  {
   "cell_type": "code",
   "execution_count": 3,
   "metadata": {},
   "outputs": [
    {
     "data": {
      "image/png": "[encoded data removed]",
      "text/plain": [
       "<Figure size 432x288 with 4 Axes>"
      ]
     },
     "metadata": {
      "needs_background": "light"
     },
     "output_type": "display_data"
    }
   ],
   "source": [
    "plt.subplot(221)\n",
    "\n",
    "plt.scatter(Ma, Ma - cc['MaC'])\n",
    "plt.title(\"Ma\")\n",
    "\n",
    "plt.subplot(222)\n",
    "\n",
    "plt.scatter(τ_eff, τ_eff - cc['tau_effC'])\n",
    "plt.title(\"Tau\")\n",
    "\n",
    "plt.subplot(223)\n",
    "\n",
    "plt.scatter(σ, σ - cc['sigmaC'])\n",
    "plt.title(\"sigma\")\n",
    "\n",
    "plt.subplot(224)\n",
    "\n",
    "plt.scatter(F8, F8 - cc['F8_modC'])\n",
    "plt.title(\"F8\")\n",
    "\n",
    "plt.tight_layout()\n",
    "\n",
    "plt.show()"
   ]
  },
  {
   "cell_type": "code",
   "execution_count": null,
   "metadata": {},
   "outputs": [],
   "source": []
  }
 ],
 "metadata": {
  "kernelspec": {
   "display_name": "Python 3",
   "language": "python",
   "name": "python3"
  },
  "language_info": {
   "codemirror_mode": {
    "name": "ipython",
    "version": 3
   },
   "file_extension": ".py",
   "mimetype": "text/x-python",
   "name": "python",
   "nbconvert_exporter": "python",
   "pygments_lexer": "ipython3",
   "version": "3.6.6"
  }
 },
 "nbformat": 4,
 "nbformat_minor": 2
}
